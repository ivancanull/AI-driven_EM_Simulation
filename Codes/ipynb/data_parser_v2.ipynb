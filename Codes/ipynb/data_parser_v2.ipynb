{
 "cells": [
  {
   "cell_type": "code",
   "execution_count": 132,
   "id": "1800e68a",
   "metadata": {},
   "outputs": [],
   "source": [
    "import argparse\n",
    "import os\n",
    "import re\n",
    "import pandas as pd\n",
    "import numpy as np"
   ]
  },
  {
   "cell_type": "code",
   "execution_count": 178,
   "id": "c2e36f94",
   "metadata": {},
   "outputs": [],
   "source": [
    "def data_parse(case, port,):\n",
    "    \n",
    "    current_dir = os.getcwd()\n",
    "    home_dir = os.path.abspath(os.path.join(current_dir, '..'))\n",
    "    data_dir = os.path.join(home_dir, 'Data')\n",
    "    case_dir = os.path.join(data_dir, case)\n",
    "    excel_dir = os.path.join(data_dir, '%s.xlsx' % case)\n",
    "    result_dir = os.path.join(data_dir, '%s' % case)\n",
    "    \n",
    "    para_df = pd.read_excel(excel_dir, sheet_name='Mixed_N_Line_Stripline', skiprows=23)\n",
    "    \n",
    "    # Set new df\n",
    "    new_para_df = para_df.T.loc[para_df.T.index[1:]].copy()\n",
    "    new_para_df.columns = para_df.T.loc['batch list'].to_numpy()\n",
    "    new_para_df = new_para_df.set_index('save dir file name')\n",
    "    new_para_df.index.name = None\n",
    "    \n",
    "    \n",
    "    # Get the absolute path of the upper directory\n",
    "\n",
    "    # rlgc_df_list = []\n",
    "    snp_df_list = []\n",
    "    keys = []\n",
    "    snp_headers = []\n",
    "    \n",
    "    for i in range(port):\n",
    "        for j in range(port):\n",
    "            for s in 'SR', 'SI':\n",
    "                snp_headers.append('%s(%d,%d)' % (s, i+1, j+1))\n",
    "\n",
    "    for dirs in os.listdir(result_dir):\n",
    "                \n",
    "        # skip with\n",
    "        if os.path.isdir(os.path.join(result_dir, dirs, 'RLGC')):\n",
    "            \n",
    "            # read rlgc\n",
    "            # rlgc = 'TransmissionLine.rlgc'\n",
    "            \n",
    "            # read snp\n",
    "            snp = 'TransmissionLine.s%dp' % port\n",
    "            \n",
    "            if os.path.exists(os.path.join(result_dir, dirs, 'RLGC', snp)):\n",
    "                keys.append(dirs)\n",
    "                # rlgc_df_list.append(pd.read_csv(os.path.join(data_path, dirs, rlgc), skiprows=2, delim_whitespace=True))\n",
    "\n",
    "                snp_df = pd.read_csv(os.path.join(result_dir, dirs, 'RLGC', snp), skiprows=port+3, delim_whitespace=True, header=None).loc[:, 1:]\n",
    "                snp_df.columns = snp_headers\n",
    "                \n",
    "                for p in new_para_df.columns:\n",
    "                    if p == 'W':\n",
    "                        snp_df.loc[:, p] = float(new_para_df.loc[dirs, p].split(',')[0])\n",
    "                    else:\n",
    "                        snp_df.loc[:, p] = float(new_para_df.loc[dirs, p])\n",
    "                \n",
    "                snp_df_list.append(snp_df)\n",
    "                \n",
    "    # df = pd.concat([pd.concat(rlgc_df_list, keys=keys), pd.concat(snp_df_list, keys=keys)], axis=1)\n",
    "    df = pd.concat(snp_df_list, keys=keys)\n",
    "\n",
    "    \n",
    "    return df"
   ]
  },
  {
   "cell_type": "code",
   "execution_count": 179,
   "id": "ac3f9f8e",
   "metadata": {},
   "outputs": [],
   "source": [
    "new_df = data_parse('Differential_Stripline_test', port=4)"
   ]
  }
 ],
 "metadata": {
  "kernelspec": {
   "display_name": "Python 3",
   "language": "python",
   "name": "python3"
  },
  "language_info": {
   "codemirror_mode": {
    "name": "ipython",
    "version": 3
   },
   "file_extension": ".py",
   "mimetype": "text/x-python",
   "name": "python",
   "nbconvert_exporter": "python",
   "pygments_lexer": "ipython3",
   "version": "3.8.10"
  }
 },
 "nbformat": 4,
 "nbformat_minor": 5
}
