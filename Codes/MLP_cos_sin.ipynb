{
 "cells": [
  {
   "cell_type": "code",
   "execution_count": null,
   "id": "0b994fc1",
   "metadata": {},
   "outputs": [],
   "source": [
    "import random\n",
    "import pandas as pd\n",
    "import numpy as np\n",
    "import torch\n",
    "import torch.nn as nn\n",
    "import torch.optim as optim\n",
    "import matplotlib as mpl\n",
    "import matplotlib.pyplot as plt\n",
    "\n",
    "from IPython.display import clear_output\n",
    "from sklearn.metrics import r2_score\n",
    "\n",
    "import data_parser\n",
    "import MLP\n"
   ]
  },
  {
   "cell_type": "code",
   "execution_count": null,
   "id": "0eb5b142",
   "metadata": {},
   "outputs": [],
   "source": [
    "# CUDA\n",
    "if torch.cuda.is_available():\n",
    "    dev = \"cuda:0\"\n",
    "    print(\"CUDA avaiable\")\n",
    "else:  \n",
    "    dev = \"cpu\"\n",
    "    print(\"CUDA not avaiable\")\n",
    "device = torch.device(dev)"
   ]
  },
  {
   "cell_type": "code",
   "execution_count": null,
   "id": "38e9b1c0",
   "metadata": {},
   "outputs": [],
   "source": [
    "def plot_X_y(X, y, df, indices, input_cols, y_label, pred=None, loss=None, r2=None, mer=None, \\\n",
    "             figname=None, savefig=False):\n",
    "    \n",
    "    # Plot a 3x3 figure\n",
    "    line = 7\n",
    "    fig, ax = plt.subplots(line, 3, figsize=(40, 3 * line), constrained_layout=True)\n",
    "\n",
    "    \n",
    "    for i in range(line):\n",
    "        for j in range(3):\n",
    "        \n",
    "            idx = indices[i*3+j]\n",
    "            input_col_str = ''\n",
    "            for input_col in input_cols:\n",
    "                input_col_str += input_col + ':%.1f ' % df.loc[idx][input_col][0]\n",
    "            \n",
    "            ax[i,j].plot(X.detach().numpy(), y[i*3+j,:].detach().numpy())\n",
    "            if pred is not None:\n",
    "                ax[i,j].plot(X.detach().numpy(), pred[i*3+j,:].detach().numpy())\n",
    "            ax[i,j].set_xlabel(input_col_str)\n",
    "            ax[i,j].set_ylabel(y_label)\n",
    "    title = 'Loss: %.4f R2 : %.4f Max Error Rate : %.4f' % (loss, r2, mer)\n",
    "    fig.suptitle(title)\n",
    "    \n",
    "    if savefig:\n",
    "        plt.savefig('../Figures/pdf/'+figname+'.pdf', bbox_inches= 'tight')\n",
    "        plt.savefig('../Figures/png/'+figname+'.png', bbox_inches= 'tight')\n",
    "        \n",
    "    plt.show();"
   ]
  },
  {
   "cell_type": "code",
   "execution_count": null,
   "id": "df6e755b",
   "metadata": {},
   "outputs": [],
   "source": [
    "def plot_X_y_train(X, y, df, indices, input_cols, y_label, pred=None, loss=None, r2=None, mer=None, \\\n",
    "                   figname=None, savefig=False):\n",
    "    \n",
    "    # Plot a 3x3 figure\n",
    "    line = 20\n",
    "    \n",
    "    fig, ax = plt.subplots(line, 3, figsize=(40, 3 * line), constrained_layout=True)\n",
    "\n",
    "    \n",
    "    for i in range(line):\n",
    "        for j in range(3):\n",
    "        \n",
    "            idx = indices[i*3+j]\n",
    "            input_col_str = ''\n",
    "            for input_col in input_cols:\n",
    "                input_col_str += input_col + ':%.1f ' % df.loc[idx][input_col][0]\n",
    "            \n",
    "            ax[i,j].plot(X.detach().numpy(), y[i*3+j,:].detach().numpy())\n",
    "            if pred is not None:\n",
    "                ax[i,j].plot(X.detach().numpy(), pred[i*3+j,:].detach().numpy())\n",
    "            ax[i,j].set_xlabel(input_col_str)\n",
    "            ax[i,j].set_ylabel(y_label)\n",
    "\n",
    "    title = 'Loss: %.4f R2 : %.4f Max Error Rate : %.4f' % (loss, r2, mer)\n",
    "    fig.suptitle(title)\n",
    "    \n",
    "    if savefig:\n",
    "        plt.savefig('../Figures/pdf/'+figname+'.pdf', bbox_inches= 'tight')\n",
    "        plt.savefig('../Figures/png/'+figname+'.png', bbox_inches= 'tight')\n",
    "        "
   ]
  },
  {
   "cell_type": "code",
   "execution_count": null,
   "id": "533996fd",
   "metadata": {},
   "outputs": [],
   "source": [
    "df = data_parser.calculate_amp_phase(data_parser.data_parse(), unwrap=True)"
   ]
  },
  {
   "cell_type": "code",
   "execution_count": null,
   "id": "cabeb37b",
   "metadata": {},
   "outputs": [],
   "source": [
    "df = data_parser.calculate_sin_cos(df)"
   ]
  },
  {
   "cell_type": "code",
   "execution_count": null,
   "id": "0d954c37",
   "metadata": {},
   "outputs": [],
   "source": [
    "models = {}\n",
    "predictions = {}\n",
    "\n",
    "# Randomly shuffle the indices\n",
    "index_list = list(dict.fromkeys(df.index.get_level_values(0)))\n",
    "random.seed(42)\n",
    "np.random.shuffle(index_list)\n",
    "\n",
    "# Split the indices into 80% training set, 10% testing set and 10% validation set\n",
    "indices = {}\n",
    "indices['train_idx'] = index_list[:int(len(index_list) * 0.8)]\n",
    "indices['val_idx'] = index_list[int(len(index_list) * 0.8):int(len(index_list) * 0.9)]\n",
    "indices['test_idx'] = index_list[int(len(index_list) * 0.9):]\n",
    "\n",
    "input_cols = [\"W\", \"Trap\", \"Length\"]\n",
    "\n",
    "in_features = 3\n",
    "out_features = 501\n",
    "\n",
    "# Define F for plot\n",
    "F = torch.Tensor(df.loc[indices['train_idx'][0]]['F']).reshape(-1, 1)"
   ]
  },
  {
   "cell_type": "code",
   "execution_count": null,
   "id": "a473b477",
   "metadata": {},
   "outputs": [],
   "source": [
    "# Train A(1,1)\n",
    "output_col = 'A(1,1)'\n",
    "models[output_col] = MLP.Model(df, indices, input_cols, output_col, in_features, out_features, device)\n",
    "models[output_col].train(0.001, 40000)\n",
    "predictions[output_col] = models[output_col].test()"
   ]
  },
  {
   "cell_type": "code",
   "execution_count": null,
   "id": "e35c4a5d",
   "metadata": {},
   "outputs": [],
   "source": [
    "#Train sinP(1,1)\n",
    "output_col = 'sinP(1,1)'\n",
    "models[output_col] = MLP.Model(df, indices, input_cols, output_col, in_features, out_features, device)\n",
    "models[output_col].train(0.001, 40000)\n",
    "predictions[output_col] = models[output_col].test()"
   ]
  },
  {
   "cell_type": "code",
   "execution_count": null,
   "id": "e0f2a858",
   "metadata": {},
   "outputs": [],
   "source": [
    "#Train cosP(1,1)\n",
    "output_col = 'cosP(1,1)'\n",
    "models[output_col] = MLP.Model(df, indices, input_cols, output_col, in_features, out_features, device)\n",
    "models[output_col].train(0.001, 40000)\n",
    "predictions[output_col] = models[output_col].test()"
   ]
  },
  {
   "cell_type": "code",
   "execution_count": null,
   "id": "f00f2fe3",
   "metadata": {},
   "outputs": [],
   "source": [
    "# Train P(1,1)\n",
    "output_col = 'P(1,1)'\n",
    "models[output_col] = MLP.Model(df, indices, input_cols, output_col, in_features, out_features, device)\n",
    "models[output_col].train(0.001, 40000)\n",
    "predictions[output_col] = models[output_col].test()"
   ]
  },
  {
   "cell_type": "code",
   "execution_count": null,
   "id": "076a3f52",
   "metadata": {},
   "outputs": [],
   "source": [
    "#SR(1,1)\n",
    "\n",
    "criterion = nn.L1Loss()\n",
    "# predictions['SR(1,1)'] = predictions['A(1,1)'] * torch.cos(predictions['P(1,1)'])\n",
    "predictions['SR(1,1)'] = predictions['A(1,1)'] * predictions['cosP(1,1)']\n",
    "y_test = torch.Tensor(df.loc[indices['test_idx']]['SR(1,1)'].to_numpy().reshape(-1, 501)).to(device)\n",
    "\n",
    "test_loss = criterion(predictions['SR(1,1)'], y_test)\n",
    "r2 = r2_score(predictions['SR(1,1)'].detach().cpu().numpy(), y_test.detach().cpu().numpy())\n",
    "mer = torch.nan_to_num(torch.max(torch.abs(predictions['SR(1,1)'] - y_test) / y_test))\n",
    "\n",
    "plot_X_y(F.cpu(), y_test.cpu(), df, indices['test_idx'], input_cols, 'SR(1,1)', predictions['SR(1,1)'].cpu(), \\\n",
    "         test_loss, r2, mer, figname='SR(1,1)', savefig=True)"
   ]
  },
  {
   "cell_type": "code",
   "execution_count": null,
   "id": "ea35d7ac",
   "metadata": {},
   "outputs": [],
   "source": [
    "#SI(1,1)\n",
    "\n",
    "criterion = nn.L1Loss()\n",
    "# predictions['SI(1,1)'] = predictions['A(1,1)'] * torch.sin(predictions['P(1,1)'])\n",
    "predictions['SI(1,1)'] = predictions['A(1,1)'] * predictions['sinP(1,1)']\n",
    "y_test = torch.Tensor(df.loc[indices['test_idx']]['SI(1,1)'].to_numpy().reshape(-1, 501)).to(device)\n",
    "\n",
    "test_loss = criterion(predictions['SI(1,1)'], y_test)\n",
    "r2 = r2_score(predictions['SI(1,1)'].detach().cpu().numpy(), y_test.detach().cpu().numpy())\n",
    "mer = torch.nan_to_num(torch.max(torch.abs(predictions['SI(1,1)'] - y_test) / y_test))\n",
    "\n",
    "plot_X_y(F.cpu(), y_test.cpu(), df, indices['test_idx'], input_cols, 'SI(1,1)', predictions['SI(1,1)'].cpu(), \\\n",
    "         test_loss, r2, mer, figname='SI(1,1)', savefig=True)"
   ]
  },
  {
   "cell_type": "code",
   "execution_count": null,
   "id": "af47f0f9",
   "metadata": {},
   "outputs": [],
   "source": [
    "label= '(1,2)'\n",
    "\n",
    "# Train A\n",
    "output_col = 'A'+label\n",
    "models[output_col] = MLP.Model(df, indices, input_cols, output_col, in_features, out_features, device)\n",
    "models[output_col].train(0.001, 40000)\n",
    "predictions[output_col] = models[output_col].test()\n",
    "\n",
    "#Train sinP\n",
    "output_col = 'sinP'+label\n",
    "models[output_col] = MLP.Model(df, indices, input_cols, output_col, in_features, out_features, device)\n",
    "models[output_col].train(0.001, 40000)\n",
    "predictions[output_col] = models[output_col].test()\n",
    "\n",
    "#Train cosP\n",
    "output_col = 'cosP'+label\n",
    "models[output_col] = MLP.Model(df, indices, input_cols, output_col, in_features, out_features, device)\n",
    "models[output_col].train(0.001, 40000)\n",
    "predictions[output_col] = models[output_col].test()\n",
    "\n",
    "#SR\n",
    "\n",
    "criterion = nn.L1Loss()\n",
    "# predictions['SR(1,1)'] = predictions['A(1,1)'] * torch.cos(predictions['P(1,1)'])\n",
    "predictions['SR'+label] = predictions['A'+label] * predictions['cosP'+label]\n",
    "y_test = torch.Tensor(df.loc[indices['test_idx']]['SR'+label].to_numpy().reshape(-1, 501)).to(device)\n",
    "\n",
    "test_loss = criterion(predictions['SR'+label], y_test)\n",
    "r2 = r2_score(predictions['SR'+label].detach().cpu().numpy(), y_test.detach().cpu().numpy())\n",
    "mer = torch.nan_to_num(torch.max(torch.abs(predictions['SR'+label] - y_test) / y_test))\n",
    "\n",
    "plot_X_y(F.cpu(), y_test.cpu(), df, indices['test_idx'], input_cols, 'SR'+label, predictions['SR'+label].cpu(), \\\n",
    "         test_loss, r2, mer, figname='SR'+label, savefig=True)\n",
    "\n",
    "#SI\n",
    "\n",
    "criterion = nn.L1Loss()\n",
    "# predictions['SI(1,1)'] = predictions['A(1,1)'] * torch.sin(predictions['P(1,1)'])\n",
    "predictions['SI'+label] = predictions['A'+label] * predictions['sinP'+label]\n",
    "y_test = torch.Tensor(df.loc[indices['test_idx']]['SI'+label].to_numpy().reshape(-1, 501)).to(device)\n",
    "\n",
    "test_loss = criterion(predictions['SI'+label], y_test)\n",
    "r2 = r2_score(predictions['SI'+label].detach().cpu().numpy(), y_test.detach().cpu().numpy())\n",
    "mer = torch.nan_to_num(torch.max(torch.abs(predictions['SI'+label] - y_test) / y_test))\n",
    "\n",
    "plot_X_y(F.cpu(), y_test.cpu(), df, indices['test_idx'], input_cols, 'SI'+label, predictions['SI'+label].cpu(), \\\n",
    "         test_loss, r2, mer, figname='SI'+label, savefig=True)"
   ]
  },
  {
   "cell_type": "code",
   "execution_count": null,
   "id": "16191531",
   "metadata": {},
   "outputs": [],
   "source": [
    "# Direct training SR(1,1)\n",
    "\n",
    "output_col = 'SR(1,1)'\n",
    "models[output_col] = MLP.Model(df, indices, input_cols, output_col, in_features, out_features, device)\n",
    "models[output_col].train(0.001, 40000)"
   ]
  },
  {
   "cell_type": "code",
   "execution_count": null,
   "id": "895a5964",
   "metadata": {},
   "outputs": [],
   "source": [
    "# Direct test SR(1,1)\n",
    "\n",
    "predictions[output_col] = models[output_col].test()\n",
    "y_test = torch.Tensor(df.loc[indices['test_idx']]['SR(1,1)'].to_numpy().reshape(-1, 501)).to(device)\n",
    "\n",
    "test_loss = criterion(predictions['SR(1,1)'], y_test)\n",
    "r2 = r2_score(predictions['SR(1,1)'].detach().cpu().numpy(), y_test.detach().cpu().numpy())\n",
    "mer = torch.max(torch.abs(predictions['SR(1,1)'] - y_test) / y_test)\n",
    "\n",
    "plot_X_y(F.cpu(), y_test.cpu(), df, indices['test_idx'], input_cols, 'SR(1,1)', predictions['SR(1,1)'].cpu(), \\\n",
    "         test_loss, r2, mer, figname='SR(1,1)_direct', savefig=True)"
   ]
  },
  {
   "cell_type": "code",
   "execution_count": null,
   "id": "8aea13ec",
   "metadata": {},
   "outputs": [],
   "source": [
    "# Direct training SI(1,1)\n",
    "\n",
    "output_col = 'SI(1,1)'\n",
    "models[output_col] = MLP.Model(df, indices, input_cols, output_col, in_features, out_features, device)\n",
    "models[output_col].train(0.001, 40000)"
   ]
  },
  {
   "cell_type": "code",
   "execution_count": null,
   "id": "1e49bd28",
   "metadata": {},
   "outputs": [],
   "source": [
    "# Direct test SI(1,1)\n",
    "\n",
    "predictions[output_col] = models[output_col].test()\n",
    "y_test = torch.Tensor(df.loc[indices['test_idx']]['SI(1,1)'].to_numpy().reshape(-1, 501)).to(device)\n",
    "\n",
    "test_loss = criterion(predictions['SI(1,1)'], y_test)\n",
    "r2 = r2_score(predictions['SI(1,1)'].detach().cpu().numpy(), y_test.detach().cpu().numpy())\n",
    "mer = torch.max(torch.abs(predictions['SI(1,1)'] - y_test) / y_test)\n",
    "\n",
    "plot_X_y(F.cpu(), y_test.cpu(), df, indices['test_idx'], input_cols, 'SI(1,1)', predictions['SI(1,1)'].cpu(), \\\n",
    "         test_loss, r2, mer, figname='SI(1,1)', savefig=True)"
   ]
  },
  {
   "cell_type": "code",
   "execution_count": null,
   "id": "4392e7f5",
   "metadata": {},
   "outputs": [],
   "source": [
    "# A(1,1) train prediction\n",
    "\n",
    "output_col = 'A(1,1)'\n",
    "_, model, _, _ = models[output_col].load_model()\n",
    "criterion = nn.L1Loss()\n",
    "with torch.no_grad():\n",
    "    predictions['A(1,1)_train'] = model(models[output_col].X_train_norm)\n",
    "    _, predictions['A(1,1)_train'] = models[output_col].dp.denormalize(y=predictions['A(1,1)_train'])"
   ]
  },
  {
   "cell_type": "code",
   "execution_count": null,
   "id": "64e4fd3a",
   "metadata": {},
   "outputs": [],
   "source": [
    "# P(1,1) train prediction\n",
    "\n",
    "output_col = 'P(1,1)'\n",
    "_, model, _, _ = models[output_col].load_model()\n",
    "criterion = nn.L1Loss()\n",
    "with torch.no_grad():\n",
    "    predictions['P(1,1)_train'] = model(models[output_col].X_train_norm)\n",
    "    _, predictions['P(1,1)_train'] = models[output_col].dp.denormalize(y=predictions['P(1,1)_train'])"
   ]
  },
  {
   "cell_type": "code",
   "execution_count": null,
   "id": "c456857a",
   "metadata": {},
   "outputs": [],
   "source": [
    "# Calculate SR(1,1) with training data\n",
    "predictions['SR(1,1)_train'] = predictions['A(1,1)_train'] * torch.cos(predictions['P(1,1)_train'])\n",
    "y_train = torch.Tensor(df.loc[indices['train_idx']]['SR(1,1)'].to_numpy().reshape(-1, 501)).to(device)\n",
    "\n",
    "loss = criterion(predictions['SR(1,1)_train'], y_train)\n",
    "r2 = r2_score(predictions['SR(1,1)_train'].detach().cpu().numpy(), y_train.detach().cpu().numpy())\n",
    "mer = torch.max(torch.abs(predictions['SR(1,1)_train'] - y_train) / y_train)"
   ]
  },
  {
   "cell_type": "code",
   "execution_count": null,
   "id": "1b453bd5",
   "metadata": {},
   "outputs": [],
   "source": [
    "# Plot SR(1,1) train prediction vs ground truth\n",
    "\n",
    "plot_X_y_train(F.cpu(), y_train.cpu(), df, indices['train_idx'], input_cols, 'SR(1,1)_train', predictions['SR(1,1)_train'].cpu(), \\\n",
    "               test_loss, r2, mer, figname='SR(1,1)_train', savefig=True)"
   ]
  },
  {
   "cell_type": "code",
   "execution_count": null,
   "id": "abba35f6",
   "metadata": {},
   "outputs": [],
   "source": []
  }
 ],
 "metadata": {
  "kernelspec": {
   "display_name": "Python 3",
   "language": "python",
   "name": "python3"
  },
  "language_info": {
   "codemirror_mode": {
    "name": "ipython",
    "version": 3
   },
   "file_extension": ".py",
   "mimetype": "text/x-python",
   "name": "python",
   "nbconvert_exporter": "python",
   "pygments_lexer": "ipython3",
   "version": "3.8.10"
  },
  "vscode": {
   "interpreter": {
    "hash": "8bd12b22ff547d0c0bc4cfd6463051025267f995985aa593e90b28386149646e"
   }
  }
 },
 "nbformat": 4,
 "nbformat_minor": 5
}
